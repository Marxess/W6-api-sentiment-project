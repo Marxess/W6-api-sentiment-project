{
 "cells": [
  {
   "cell_type": "markdown",
   "metadata": {},
   "source": [
    "# Calling my API"
   ]
  },
  {
   "cell_type": "code",
   "execution_count": 1,
   "metadata": {},
   "outputs": [
    {
     "name": "stderr",
     "output_type": "stream",
     "text": [
      "/usr/local/lib/python3.8/site-packages/spacy/util.py:275: UserWarning: [W031] Model 'en_core_web_sm' (2.2.0) requires spaCy v2.2 and is incompatible with the current spaCy version (2.3.4). This may lead to unexpected results or runtime errors. To resolve this, download a newer compatible model or retrain your custom model with the current spaCy version. For more details and available updates, run: python -m spacy validate\n",
      "  warnings.warn(warn_msg)\n"
     ]
    }
   ],
   "source": [
    "#importing necessary libraries\n",
    "from pymongo import MongoClient\n",
    "import requests\n",
    "import pandas as pd\n",
    "import nltk\n",
    "from nltk.sentiment.vader import SentimentIntensityAnalyzer\n",
    "from nltk.tokenize import RegexpTokenizer\n",
    "from nltk.corpus import stopwords\n",
    "from textblob import TextBlob\n",
    "import spacy\n",
    "from spacy import displacy\n",
    "import en_core_web_sm"
   ]
  },
  {
   "cell_type": "code",
   "execution_count": 2,
   "metadata": {},
   "outputs": [
    {
     "name": "stderr",
     "output_type": "stream",
     "text": [
      "[nltk_data] Downloading package vader_lexicon to\n",
      "[nltk_data]     /Users/mariana/nltk_data...\n",
      "[nltk_data]   Package vader_lexicon is already up-to-date!\n",
      "[nltk_data] Downloading package punkt to /Users/mariana/nltk_data...\n",
      "[nltk_data]   Package punkt is already up-to-date!\n",
      "[nltk_data] Downloading package stopwords to\n",
      "[nltk_data]     /Users/mariana/nltk_data...\n",
      "[nltk_data]   Package stopwords is already up-to-date!\n"
     ]
    },
    {
     "data": {
      "text/plain": [
       "True"
      ]
     },
     "execution_count": 2,
     "metadata": {},
     "output_type": "execute_result"
    }
   ],
   "source": [
    "nltk.download('vader_lexicon')\n",
    "nltk.download('punkt')\n",
    "nltk.download('stopwords')"
   ]
  },
  {
   "cell_type": "code",
   "execution_count": 3,
   "metadata": {
    "scrolled": true
   },
   "outputs": [
    {
     "data": {
      "text/plain": [
       "{'Amigos': ['Dobby', 'Ras', 'Sheriff', 'Ignacio'], 'Edad': 28, 'Nombre': 'Fer'}"
      ]
     },
     "execution_count": 3,
     "metadata": {},
     "output_type": "execute_result"
    }
   ],
   "source": [
    "#checking connection\n",
    "url = 'http://localhost:5000/ejemplo1'\n",
    "data = requests.get (url).json()\n",
    "data"
   ]
  },
  {
   "cell_type": "code",
   "execution_count": 4,
   "metadata": {},
   "outputs": [],
   "source": [
    "##checking MongoDB\n",
    "conn = MongoClient('localhost:27017')\n",
    "\n",
    "# choose database to work with\n",
    "db = conn.get_database('GoT')\n",
    "\n",
    "# choose collection to work with\n",
    "collection = db.get_collection('frases')"
   ]
  },
  {
   "cell_type": "code",
   "execution_count": 5,
   "metadata": {},
   "outputs": [],
   "source": [
    "dataset = collection.find()"
   ]
  },
  {
   "cell_type": "code",
   "execution_count": 6,
   "metadata": {},
   "outputs": [],
   "source": [
    "df = pd.DataFrame(dataset)\n",
    "df.dropna(inplace=True)"
   ]
  },
  {
   "cell_type": "code",
   "execution_count": 7,
   "metadata": {},
   "outputs": [
    {
     "data": {
      "text/html": [
       "<div>\n",
       "<style scoped>\n",
       "    .dataframe tbody tr th:only-of-type {\n",
       "        vertical-align: middle;\n",
       "    }\n",
       "\n",
       "    .dataframe tbody tr th {\n",
       "        vertical-align: top;\n",
       "    }\n",
       "\n",
       "    .dataframe thead th {\n",
       "        text-align: right;\n",
       "    }\n",
       "</style>\n",
       "<table border=\"1\" class=\"dataframe\">\n",
       "  <thead>\n",
       "    <tr style=\"text-align: right;\">\n",
       "      <th></th>\n",
       "      <th>_id</th>\n",
       "      <th>Season</th>\n",
       "      <th>Episode</th>\n",
       "      <th>Episode Title</th>\n",
       "      <th>Name</th>\n",
       "      <th>Sentence</th>\n",
       "    </tr>\n",
       "  </thead>\n",
       "  <tbody>\n",
       "    <tr>\n",
       "      <th>0</th>\n",
       "      <td>5fc4c1600a5fb174ea948545</td>\n",
       "      <td>Season 1</td>\n",
       "      <td>Episode 1</td>\n",
       "      <td>Winter is Coming</td>\n",
       "      <td>waymar royce</td>\n",
       "      <td>How close did you get?</td>\n",
       "    </tr>\n",
       "    <tr>\n",
       "      <th>1</th>\n",
       "      <td>5fc4c1600a5fb174ea948546</td>\n",
       "      <td>Season 1</td>\n",
       "      <td>Episode 1</td>\n",
       "      <td>Winter is Coming</td>\n",
       "      <td>gared</td>\n",
       "      <td>We should head back to the wall.</td>\n",
       "    </tr>\n",
       "    <tr>\n",
       "      <th>2</th>\n",
       "      <td>5fc4c1600a5fb174ea948547</td>\n",
       "      <td>Season 1</td>\n",
       "      <td>Episode 1</td>\n",
       "      <td>Winter is Coming</td>\n",
       "      <td>royce</td>\n",
       "      <td>Do the dead frighten you?</td>\n",
       "    </tr>\n",
       "    <tr>\n",
       "      <th>3</th>\n",
       "      <td>5fc4c1600a5fb174ea948548</td>\n",
       "      <td>Season 1</td>\n",
       "      <td>Episode 1</td>\n",
       "      <td>Winter is Coming</td>\n",
       "      <td>gared</td>\n",
       "      <td>Our orders were to track the wildlings. We tra...</td>\n",
       "    </tr>\n",
       "    <tr>\n",
       "      <th>4</th>\n",
       "      <td>5fc4c1600a5fb174ea948549</td>\n",
       "      <td>Season 1</td>\n",
       "      <td>Episode 1</td>\n",
       "      <td>Winter is Coming</td>\n",
       "      <td>royce</td>\n",
       "      <td>You don't think he'll ask us how they died? Ge...</td>\n",
       "    </tr>\n",
       "  </tbody>\n",
       "</table>\n",
       "</div>"
      ],
      "text/plain": [
       "                        _id    Season    Episode     Episode Title  \\\n",
       "0  5fc4c1600a5fb174ea948545  Season 1  Episode 1  Winter is Coming   \n",
       "1  5fc4c1600a5fb174ea948546  Season 1  Episode 1  Winter is Coming   \n",
       "2  5fc4c1600a5fb174ea948547  Season 1  Episode 1  Winter is Coming   \n",
       "3  5fc4c1600a5fb174ea948548  Season 1  Episode 1  Winter is Coming   \n",
       "4  5fc4c1600a5fb174ea948549  Season 1  Episode 1  Winter is Coming   \n",
       "\n",
       "           Name                                           Sentence  \n",
       "0  waymar royce                             How close did you get?  \n",
       "1         gared                   We should head back to the wall.  \n",
       "2         royce                          Do the dead frighten you?  \n",
       "3         gared  Our orders were to track the wildlings. We tra...  \n",
       "4         royce  You don't think he'll ask us how they died? Ge...  "
      ]
     },
     "execution_count": 7,
     "metadata": {},
     "output_type": "execute_result"
    }
   ],
   "source": [
    "df.head()"
   ]
  },
  {
   "cell_type": "code",
   "execution_count": 8,
   "metadata": {},
   "outputs": [],
   "source": [
    "c = collection"
   ]
  },
  {
   "cell_type": "code",
   "execution_count": 9,
   "metadata": {},
   "outputs": [],
   "source": [
    "names = list(c.distinct('Name'))"
   ]
  },
  {
   "cell_type": "code",
   "execution_count": 10,
   "metadata": {},
   "outputs": [],
   "source": [
    "#drop some occasional characters\n",
    "characters_drop = ['man', 'women', 'boy','girl', 'old man',]\n",
    "dfnew =df[df['Name'].isin(characters_drop)]"
   ]
  },
  {
   "cell_type": "code",
   "execution_count": 11,
   "metadata": {},
   "outputs": [
    {
     "data": {
      "text/html": [
       "<div>\n",
       "<style scoped>\n",
       "    .dataframe tbody tr th:only-of-type {\n",
       "        vertical-align: middle;\n",
       "    }\n",
       "\n",
       "    .dataframe tbody tr th {\n",
       "        vertical-align: top;\n",
       "    }\n",
       "\n",
       "    .dataframe thead th {\n",
       "        text-align: right;\n",
       "    }\n",
       "</style>\n",
       "<table border=\"1\" class=\"dataframe\">\n",
       "  <thead>\n",
       "    <tr style=\"text-align: right;\">\n",
       "      <th></th>\n",
       "      <th>Character</th>\n",
       "      <th>No of Dialogues</th>\n",
       "    </tr>\n",
       "  </thead>\n",
       "  <tbody>\n",
       "    <tr>\n",
       "      <th>0</th>\n",
       "      <td>tyrion lannister</td>\n",
       "      <td>1760</td>\n",
       "    </tr>\n",
       "    <tr>\n",
       "      <th>1</th>\n",
       "      <td>jon snow</td>\n",
       "      <td>1133</td>\n",
       "    </tr>\n",
       "    <tr>\n",
       "      <th>2</th>\n",
       "      <td>daenerys targaryen</td>\n",
       "      <td>1048</td>\n",
       "    </tr>\n",
       "    <tr>\n",
       "      <th>3</th>\n",
       "      <td>cersei lannister</td>\n",
       "      <td>1005</td>\n",
       "    </tr>\n",
       "    <tr>\n",
       "      <th>4</th>\n",
       "      <td>jaime lannister</td>\n",
       "      <td>945</td>\n",
       "    </tr>\n",
       "    <tr>\n",
       "      <th>...</th>\n",
       "      <td>...</td>\n",
       "      <td>...</td>\n",
       "    </tr>\n",
       "    <tr>\n",
       "      <th>559</th>\n",
       "      <td>dolorous</td>\n",
       "      <td>1</td>\n",
       "    </tr>\n",
       "    <tr>\n",
       "      <th>560</th>\n",
       "      <td>a voice</td>\n",
       "      <td>1</td>\n",
       "    </tr>\n",
       "    <tr>\n",
       "      <th>561</th>\n",
       "      <td>several stark bannermen</td>\n",
       "      <td>1</td>\n",
       "    </tr>\n",
       "    <tr>\n",
       "      <th>562</th>\n",
       "      <td>dornish prince</td>\n",
       "      <td>1</td>\n",
       "    </tr>\n",
       "    <tr>\n",
       "      <th>563</th>\n",
       "      <td>assassin</td>\n",
       "      <td>1</td>\n",
       "    </tr>\n",
       "  </tbody>\n",
       "</table>\n",
       "<p>564 rows × 2 columns</p>\n",
       "</div>"
      ],
      "text/plain": [
       "                   Character  No of Dialogues\n",
       "0           tyrion lannister             1760\n",
       "1                   jon snow             1133\n",
       "2         daenerys targaryen             1048\n",
       "3           cersei lannister             1005\n",
       "4            jaime lannister              945\n",
       "..                       ...              ...\n",
       "559                 dolorous                1\n",
       "560                  a voice                1\n",
       "561  several stark bannermen                1\n",
       "562           dornish prince                1\n",
       "563                 assassin                1\n",
       "\n",
       "[564 rows x 2 columns]"
      ]
     },
     "execution_count": 11,
     "metadata": {},
     "output_type": "execute_result"
    }
   ],
   "source": [
    "talktative_cha = df['Name'].value_counts().reset_index()\n",
    "talktative_cha.columns=['Character', 'No of Dialogues']\n",
    "talktative_cha"
   ]
  },
  {
   "cell_type": "code",
   "execution_count": 12,
   "metadata": {},
   "outputs": [],
   "source": [
    "#Total dialogues by Seasons\n",
    "temp = df['Season'].value_counts().reset_index()\n",
    "temp.columns=['Season', 'Counts']\n",
    "temp.sort_values(by='Season', inplace=True)"
   ]
  },
  {
   "cell_type": "code",
   "execution_count": 46,
   "metadata": {},
   "outputs": [],
   "source": [
    "#Extracting last names from Name column\n",
    "df['lastname'] = df['Name'].apply(lambda x : str(x).split()[-1])\n",
    "\n",
    "lastname_count = df['lastname'].value_counts().head(10).reset_index()\n",
    "#lastname.columns = ['Last Name', 'Counts']"
   ]
  },
  {
   "cell_type": "code",
   "execution_count": 15,
   "metadata": {},
   "outputs": [
    {
     "data": {
      "text/html": [
       "<div>\n",
       "<style scoped>\n",
       "    .dataframe tbody tr th:only-of-type {\n",
       "        vertical-align: middle;\n",
       "    }\n",
       "\n",
       "    .dataframe tbody tr th {\n",
       "        vertical-align: top;\n",
       "    }\n",
       "\n",
       "    .dataframe thead th {\n",
       "        text-align: right;\n",
       "    }\n",
       "</style>\n",
       "<table border=\"1\" class=\"dataframe\">\n",
       "  <thead>\n",
       "    <tr style=\"text-align: right;\">\n",
       "      <th></th>\n",
       "      <th>_id</th>\n",
       "      <th>count</th>\n",
       "    </tr>\n",
       "  </thead>\n",
       "  <tbody>\n",
       "    <tr>\n",
       "      <th>0</th>\n",
       "      <td>tyrion lannister</td>\n",
       "      <td>1760</td>\n",
       "    </tr>\n",
       "    <tr>\n",
       "      <th>1</th>\n",
       "      <td>jon snow</td>\n",
       "      <td>1133</td>\n",
       "    </tr>\n",
       "    <tr>\n",
       "      <th>2</th>\n",
       "      <td>daenerys targaryen</td>\n",
       "      <td>1048</td>\n",
       "    </tr>\n",
       "    <tr>\n",
       "      <th>3</th>\n",
       "      <td>cersei lannister</td>\n",
       "      <td>1005</td>\n",
       "    </tr>\n",
       "    <tr>\n",
       "      <th>4</th>\n",
       "      <td>jaime lannister</td>\n",
       "      <td>945</td>\n",
       "    </tr>\n",
       "    <tr>\n",
       "      <th>...</th>\n",
       "      <td>...</td>\n",
       "      <td>...</td>\n",
       "    </tr>\n",
       "    <tr>\n",
       "      <th>560</th>\n",
       "      <td>cohollo</td>\n",
       "      <td>1</td>\n",
       "    </tr>\n",
       "    <tr>\n",
       "      <th>561</th>\n",
       "      <td>ser rodrik</td>\n",
       "      <td>1</td>\n",
       "    </tr>\n",
       "    <tr>\n",
       "      <th>562</th>\n",
       "      <td>bolton bannerman</td>\n",
       "      <td>1</td>\n",
       "    </tr>\n",
       "    <tr>\n",
       "      <th>563</th>\n",
       "      <td>watchman</td>\n",
       "      <td>1</td>\n",
       "    </tr>\n",
       "    <tr>\n",
       "      <th>564</th>\n",
       "      <td>thenn warg</td>\n",
       "      <td>1</td>\n",
       "    </tr>\n",
       "  </tbody>\n",
       "</table>\n",
       "<p>565 rows × 2 columns</p>\n",
       "</div>"
      ],
      "text/plain": [
       "                    _id  count\n",
       "0      tyrion lannister   1760\n",
       "1              jon snow   1133\n",
       "2    daenerys targaryen   1048\n",
       "3      cersei lannister   1005\n",
       "4       jaime lannister    945\n",
       "..                  ...    ...\n",
       "560             cohollo      1\n",
       "561          ser rodrik      1\n",
       "562    bolton bannerman      1\n",
       "563            watchman      1\n",
       "564          thenn warg      1\n",
       "\n",
       "[565 rows x 2 columns]"
      ]
     },
     "execution_count": 15,
     "metadata": {},
     "output_type": "execute_result"
    }
   ],
   "source": [
    "##Extracting count sentence by character name\n",
    "pd.DataFrame(c.aggregate([\n",
    "    { '$sortByCount': \"$Name\" }\n",
    "]))"
   ]
  },
  {
   "cell_type": "code",
   "execution_count": 16,
   "metadata": {},
   "outputs": [
    {
     "data": {
      "text/html": [
       "<div>\n",
       "<style scoped>\n",
       "    .dataframe tbody tr th:only-of-type {\n",
       "        vertical-align: middle;\n",
       "    }\n",
       "\n",
       "    .dataframe tbody tr th {\n",
       "        vertical-align: top;\n",
       "    }\n",
       "\n",
       "    .dataframe thead th {\n",
       "        text-align: right;\n",
       "    }\n",
       "</style>\n",
       "<table border=\"1\" class=\"dataframe\">\n",
       "  <thead>\n",
       "    <tr style=\"text-align: right;\">\n",
       "      <th></th>\n",
       "      <th>_id</th>\n",
       "      <th>Season</th>\n",
       "      <th>Episode</th>\n",
       "      <th>Episode Title</th>\n",
       "      <th>Name</th>\n",
       "      <th>Sentence</th>\n",
       "    </tr>\n",
       "  </thead>\n",
       "  <tbody>\n",
       "    <tr>\n",
       "      <th>0</th>\n",
       "      <td>5fc4c1600a5fb174ea9499d1</td>\n",
       "      <td>Season 2</td>\n",
       "      <td>Episode 6</td>\n",
       "      <td>The Old Gods and the New</td>\n",
       "      <td>ygritte</td>\n",
       "      <td>Burn them or maybe you'll need those swords ag...</td>\n",
       "    </tr>\n",
       "    <tr>\n",
       "      <th>1</th>\n",
       "      <td>5fc4c1600a5fb174ea9499d3</td>\n",
       "      <td>Season 2</td>\n",
       "      <td>Episode 6</td>\n",
       "      <td>The Old Gods and the New</td>\n",
       "      <td>ygritte</td>\n",
       "      <td>Hundreds and thousands. More than you've ever ...</td>\n",
       "    </tr>\n",
       "    <tr>\n",
       "      <th>2</th>\n",
       "      <td>5fc4c1600a5fb174ea9499cb</td>\n",
       "      <td>Season 2</td>\n",
       "      <td>Episode 6</td>\n",
       "      <td>The Old Gods and the New</td>\n",
       "      <td>ygritte</td>\n",
       "      <td>I gave you my name.</td>\n",
       "    </tr>\n",
       "    <tr>\n",
       "      <th>3</th>\n",
       "      <td>5fc4c1600a5fb174ea9499cf</td>\n",
       "      <td>Season 2</td>\n",
       "      <td>Episode 6</td>\n",
       "      <td>The Old Gods and the New</td>\n",
       "      <td>ygritte</td>\n",
       "      <td>You ought to burn them you killed.</td>\n",
       "    </tr>\n",
       "    <tr>\n",
       "      <th>4</th>\n",
       "      <td>5fc4c1600a5fb174ea9499d2</td>\n",
       "      <td>Season 2</td>\n",
       "      <td>Episode 6</td>\n",
       "      <td>The Old Gods and the New</td>\n",
       "      <td>ygritte</td>\n",
       "      <td>Ygritte.</td>\n",
       "    </tr>\n",
       "  </tbody>\n",
       "</table>\n",
       "</div>"
      ],
      "text/plain": [
       "                        _id    Season    Episode             Episode Title  \\\n",
       "0  5fc4c1600a5fb174ea9499d1  Season 2  Episode 6  The Old Gods and the New   \n",
       "1  5fc4c1600a5fb174ea9499d3  Season 2  Episode 6  The Old Gods and the New   \n",
       "2  5fc4c1600a5fb174ea9499cb  Season 2  Episode 6  The Old Gods and the New   \n",
       "3  5fc4c1600a5fb174ea9499cf  Season 2  Episode 6  The Old Gods and the New   \n",
       "4  5fc4c1600a5fb174ea9499d2  Season 2  Episode 6  The Old Gods and the New   \n",
       "\n",
       "      Name                                           Sentence  \n",
       "0  ygritte  Burn them or maybe you'll need those swords ag...  \n",
       "1  ygritte  Hundreds and thousands. More than you've ever ...  \n",
       "2  ygritte                                I gave you my name.  \n",
       "3  ygritte                 You ought to burn them you killed.  \n",
       "4  ygritte                                           Ygritte.  "
      ]
     },
     "execution_count": 16,
     "metadata": {},
     "output_type": "execute_result"
    }
   ],
   "source": [
    "#Let's find families last name, and thus, houses. Example: 'Lannister'\n",
    "familias = df['Name'].apply(lambda x : str(x).split()[-1])\n",
    "pd.DataFrame(c.find({'Name' : {'$regex' : \".*ygritte.*\"}}).sort('sentence', -1).limit(5))"
   ]
  },
  {
   "cell_type": "code",
   "execution_count": 17,
   "metadata": {},
   "outputs": [],
   "source": [
    "grupo = familias"
   ]
  },
  {
   "cell_type": "markdown",
   "metadata": {},
   "source": [
    "### 1. GET Endpoints + params of the query"
   ]
  },
  {
   "cell_type": "code",
   "execution_count": 18,
   "metadata": {},
   "outputs": [],
   "source": [
    "#1st endpoint - get all messages from a character - in this case, Tyrion Lannister\n",
    "url_query = 'http://localhost:5000/frases/'\n",
    "person = 'tyrion lannister'"
   ]
  },
  {
   "cell_type": "code",
   "execution_count": 19,
   "metadata": {},
   "outputs": [],
   "source": [
    "frases = requests.get(url_query + person).json()"
   ]
  },
  {
   "cell_type": "code",
   "execution_count": 20,
   "metadata": {},
   "outputs": [
    {
     "data": {
      "text/html": [
       "<div>\n",
       "<style scoped>\n",
       "    .dataframe tbody tr th:only-of-type {\n",
       "        vertical-align: middle;\n",
       "    }\n",
       "\n",
       "    .dataframe tbody tr th {\n",
       "        vertical-align: top;\n",
       "    }\n",
       "\n",
       "    .dataframe thead th {\n",
       "        text-align: right;\n",
       "    }\n",
       "</style>\n",
       "<table border=\"1\" class=\"dataframe\">\n",
       "  <thead>\n",
       "    <tr style=\"text-align: right;\">\n",
       "      <th></th>\n",
       "      <th>Episode</th>\n",
       "      <th>Episode Title</th>\n",
       "      <th>Name</th>\n",
       "      <th>Sentence</th>\n",
       "    </tr>\n",
       "  </thead>\n",
       "  <tbody>\n",
       "    <tr>\n",
       "      <th>0</th>\n",
       "      <td>Episode 1</td>\n",
       "      <td>Winter is Coming</td>\n",
       "      <td>tyrion lannister</td>\n",
       "      <td>I did hear something about that.</td>\n",
       "    </tr>\n",
       "    <tr>\n",
       "      <th>1</th>\n",
       "      <td>Episode 1</td>\n",
       "      <td>Winter is Coming</td>\n",
       "      <td>tyrion lannister</td>\n",
       "      <td>Mmh. It is true what they say about the Northe...</td>\n",
       "    </tr>\n",
       "    <tr>\n",
       "      <th>2</th>\n",
       "      <td>Episode 1</td>\n",
       "      <td>Winter is Coming</td>\n",
       "      <td>tyrion lannister</td>\n",
       "      <td>And the other brother?</td>\n",
       "    </tr>\n",
       "    <tr>\n",
       "      <th>3</th>\n",
       "      <td>Episode 1</td>\n",
       "      <td>Winter is Coming</td>\n",
       "      <td>tyrion lannister</td>\n",
       "      <td>I hear he hates that nickname.</td>\n",
       "    </tr>\n",
       "    <tr>\n",
       "      <th>4</th>\n",
       "      <td>Episode 1</td>\n",
       "      <td>Winter is Coming</td>\n",
       "      <td>tyrion lannister</td>\n",
       "      <td>There's the pretty one. And there's the clever...</td>\n",
       "    </tr>\n",
       "    <tr>\n",
       "      <th>...</th>\n",
       "      <td>...</td>\n",
       "      <td>...</td>\n",
       "      <td>...</td>\n",
       "      <td>...</td>\n",
       "    </tr>\n",
       "    <tr>\n",
       "      <th>1755</th>\n",
       "      <td>Episode 6</td>\n",
       "      <td>The Iron Throne</td>\n",
       "      <td>tyrion lannister</td>\n",
       "      <td>Good. Time to start incurring a new one. We ha...</td>\n",
       "    </tr>\n",
       "    <tr>\n",
       "      <th>1756</th>\n",
       "      <td>Episode 6</td>\n",
       "      <td>The Iron Throne</td>\n",
       "      <td>tyrion lannister</td>\n",
       "      <td>Grandmaester, ahem, it is my theory, based on ...</td>\n",
       "    </tr>\n",
       "    <tr>\n",
       "      <th>1757</th>\n",
       "      <td>Episode 6</td>\n",
       "      <td>The Iron Throne</td>\n",
       "      <td>tyrion lannister</td>\n",
       "      <td>Find the best builders and set them to the task.</td>\n",
       "    </tr>\n",
       "    <tr>\n",
       "      <th>1758</th>\n",
       "      <td>Episode 6</td>\n",
       "      <td>The Iron Throne</td>\n",
       "      <td>tyrion lannister</td>\n",
       "      <td>Lord Davos, we have an armada to rebuild and p...</td>\n",
       "    </tr>\n",
       "    <tr>\n",
       "      <th>1759</th>\n",
       "      <td>Episode 6</td>\n",
       "      <td>The Iron Throne</td>\n",
       "      <td>tyrion lannister</td>\n",
       "      <td>I once brought a jackass and a honeycomb into ...</td>\n",
       "    </tr>\n",
       "  </tbody>\n",
       "</table>\n",
       "<p>1760 rows × 4 columns</p>\n",
       "</div>"
      ],
      "text/plain": [
       "        Episode     Episode Title              Name  \\\n",
       "0     Episode 1  Winter is Coming  tyrion lannister   \n",
       "1     Episode 1  Winter is Coming  tyrion lannister   \n",
       "2     Episode 1  Winter is Coming  tyrion lannister   \n",
       "3     Episode 1  Winter is Coming  tyrion lannister   \n",
       "4     Episode 1  Winter is Coming  tyrion lannister   \n",
       "...         ...               ...               ...   \n",
       "1755  Episode 6   The Iron Throne  tyrion lannister   \n",
       "1756  Episode 6   The Iron Throne  tyrion lannister   \n",
       "1757  Episode 6   The Iron Throne  tyrion lannister   \n",
       "1758  Episode 6   The Iron Throne  tyrion lannister   \n",
       "1759  Episode 6   The Iron Throne  tyrion lannister   \n",
       "\n",
       "                                               Sentence  \n",
       "0                      I did hear something about that.  \n",
       "1     Mmh. It is true what they say about the Northe...  \n",
       "2                                And the other brother?  \n",
       "3                        I hear he hates that nickname.  \n",
       "4     There's the pretty one. And there's the clever...  \n",
       "...                                                 ...  \n",
       "1755  Good. Time to start incurring a new one. We ha...  \n",
       "1756  Grandmaester, ahem, it is my theory, based on ...  \n",
       "1757   Find the best builders and set them to the task.  \n",
       "1758  Lord Davos, we have an armada to rebuild and p...  \n",
       "1759  I once brought a jackass and a honeycomb into ...  \n",
       "\n",
       "[1760 rows x 4 columns]"
      ]
     },
     "execution_count": 20,
     "metadata": {},
     "output_type": "execute_result"
    }
   ],
   "source": [
    "df1 = pd.DataFrame(frases)\n",
    "df1"
   ]
  },
  {
   "cell_type": "code",
   "execution_count": 21,
   "metadata": {},
   "outputs": [],
   "source": [
    "#2nd endpoint - get all distinct character names from GoT database\n",
    "url_query = 'http://localhost:5000/personajes'\n",
    "names = c.distinct('Name')"
   ]
  },
  {
   "cell_type": "code",
   "execution_count": 22,
   "metadata": {},
   "outputs": [],
   "source": [
    "personajes = requests.get(url_query).json()"
   ]
  },
  {
   "cell_type": "code",
   "execution_count": 23,
   "metadata": {},
   "outputs": [
    {
     "data": {
      "text/html": [
       "<div>\n",
       "<style scoped>\n",
       "    .dataframe tbody tr th:only-of-type {\n",
       "        vertical-align: middle;\n",
       "    }\n",
       "\n",
       "    .dataframe tbody tr th {\n",
       "        vertical-align: top;\n",
       "    }\n",
       "\n",
       "    .dataframe thead th {\n",
       "        text-align: right;\n",
       "    }\n",
       "</style>\n",
       "<table border=\"1\" class=\"dataframe\">\n",
       "  <thead>\n",
       "    <tr style=\"text-align: right;\">\n",
       "      <th></th>\n",
       "      <th>0</th>\n",
       "    </tr>\n",
       "  </thead>\n",
       "  <tbody>\n",
       "    <tr>\n",
       "      <th>0</th>\n",
       "      <td>None</td>\n",
       "    </tr>\n",
       "    <tr>\n",
       "      <th>1</th>\n",
       "      <td>a voice</td>\n",
       "    </tr>\n",
       "    <tr>\n",
       "      <th>2</th>\n",
       "      <td>addam marbrand</td>\n",
       "    </tr>\n",
       "    <tr>\n",
       "      <th>3</th>\n",
       "      <td>aemon</td>\n",
       "    </tr>\n",
       "    <tr>\n",
       "      <th>4</th>\n",
       "      <td>aeron</td>\n",
       "    </tr>\n",
       "    <tr>\n",
       "      <th>...</th>\n",
       "      <td>...</td>\n",
       "    </tr>\n",
       "    <tr>\n",
       "      <th>560</th>\n",
       "      <td>young hodor</td>\n",
       "    </tr>\n",
       "    <tr>\n",
       "      <th>561</th>\n",
       "      <td>young lyanna</td>\n",
       "    </tr>\n",
       "    <tr>\n",
       "      <th>562</th>\n",
       "      <td>young man</td>\n",
       "    </tr>\n",
       "    <tr>\n",
       "      <th>563</th>\n",
       "      <td>young ned</td>\n",
       "    </tr>\n",
       "    <tr>\n",
       "      <th>564</th>\n",
       "      <td>young rodrik</td>\n",
       "    </tr>\n",
       "  </tbody>\n",
       "</table>\n",
       "<p>565 rows × 1 columns</p>\n",
       "</div>"
      ],
      "text/plain": [
       "                  0\n",
       "0              None\n",
       "1           a voice\n",
       "2    addam marbrand\n",
       "3             aemon\n",
       "4             aeron\n",
       "..              ...\n",
       "560     young hodor\n",
       "561    young lyanna\n",
       "562       young man\n",
       "563       young ned\n",
       "564    young rodrik\n",
       "\n",
       "[565 rows x 1 columns]"
      ]
     },
     "execution_count": 23,
     "metadata": {},
     "output_type": "execute_result"
    }
   ],
   "source": [
    "df2 = pd.DataFrame(personajes)\n",
    "df2"
   ]
  },
  {
   "cell_type": "code",
   "execution_count": 24,
   "metadata": {},
   "outputs": [],
   "source": [
    "#3rd endpoint - input the house and get total number of messages from that house\n",
    "url_query = 'http://localhost:5000/mensajes/'\n",
    "house = 'lannister'\n",
    "mensajes_familias = requests.get(url_query + house)"
   ]
  },
  {
   "cell_type": "code",
   "execution_count": 25,
   "metadata": {},
   "outputs": [],
   "source": [
    "df3 = pd.DataFrame(mensajes_familias)"
   ]
  },
  {
   "cell_type": "markdown",
   "metadata": {},
   "source": [
    "### 2. POST Endpoints + params of the query"
   ]
  },
  {
   "cell_type": "code",
   "execution_count": 26,
   "metadata": {},
   "outputs": [],
   "source": [
    "#Adding a new line to our GoT dataset\n",
    "datos = {\n",
    "    'Season': '2',\n",
    "    'Episode': '6',\n",
    "    'Episode Title':'The Old Gods and the New',\n",
    "    'Name': 'ygritte',\n",
    "    'Sentence': 'You know nothing John Snow'}"
   ]
  },
  {
   "cell_type": "code",
   "execution_count": 27,
   "metadata": {},
   "outputs": [],
   "source": [
    "url = 'http://localhost:5000/nuevafrase'"
   ]
  },
  {
   "cell_type": "code",
   "execution_count": 28,
   "metadata": {},
   "outputs": [
    {
     "data": {
      "text/plain": [
       "<Response [200]>"
      ]
     },
     "execution_count": 28,
     "metadata": {},
     "output_type": "execute_result"
    }
   ],
   "source": [
    "requests.post(url, data=datos)"
   ]
  },
  {
   "cell_type": "markdown",
   "metadata": {},
   "source": [
    "### 3. Sentiment Analysis "
   ]
  },
  {
   "cell_type": "markdown",
   "metadata": {},
   "source": [
    "#### 3.1 NLTK"
   ]
  },
  {
   "cell_type": "code",
   "execution_count": 29,
   "metadata": {},
   "outputs": [
    {
     "data": {
      "text/html": [
       "<div>\n",
       "<style scoped>\n",
       "    .dataframe tbody tr th:only-of-type {\n",
       "        vertical-align: middle;\n",
       "    }\n",
       "\n",
       "    .dataframe tbody tr th {\n",
       "        vertical-align: top;\n",
       "    }\n",
       "\n",
       "    .dataframe thead th {\n",
       "        text-align: right;\n",
       "    }\n",
       "</style>\n",
       "<table border=\"1\" class=\"dataframe\">\n",
       "  <thead>\n",
       "    <tr style=\"text-align: right;\">\n",
       "      <th></th>\n",
       "      <th>_id</th>\n",
       "      <th>Season</th>\n",
       "      <th>Episode</th>\n",
       "      <th>Episode Title</th>\n",
       "      <th>Name</th>\n",
       "      <th>Sentence</th>\n",
       "    </tr>\n",
       "  </thead>\n",
       "  <tbody>\n",
       "    <tr>\n",
       "      <th>0</th>\n",
       "      <td>5fc4c1600a5fb174ea948545</td>\n",
       "      <td>Season 1</td>\n",
       "      <td>Episode 1</td>\n",
       "      <td>Winter is Coming</td>\n",
       "      <td>waymar royce</td>\n",
       "      <td>How close did you get?</td>\n",
       "    </tr>\n",
       "    <tr>\n",
       "      <th>1</th>\n",
       "      <td>5fc4c1600a5fb174ea948546</td>\n",
       "      <td>Season 1</td>\n",
       "      <td>Episode 1</td>\n",
       "      <td>Winter is Coming</td>\n",
       "      <td>gared</td>\n",
       "      <td>We should head back to the wall.</td>\n",
       "    </tr>\n",
       "    <tr>\n",
       "      <th>2</th>\n",
       "      <td>5fc4c1600a5fb174ea948547</td>\n",
       "      <td>Season 1</td>\n",
       "      <td>Episode 1</td>\n",
       "      <td>Winter is Coming</td>\n",
       "      <td>royce</td>\n",
       "      <td>Do the dead frighten you?</td>\n",
       "    </tr>\n",
       "    <tr>\n",
       "      <th>3</th>\n",
       "      <td>5fc4c1600a5fb174ea948548</td>\n",
       "      <td>Season 1</td>\n",
       "      <td>Episode 1</td>\n",
       "      <td>Winter is Coming</td>\n",
       "      <td>gared</td>\n",
       "      <td>Our orders were to track the wildlings. We tra...</td>\n",
       "    </tr>\n",
       "    <tr>\n",
       "      <th>4</th>\n",
       "      <td>5fc4c1600a5fb174ea948549</td>\n",
       "      <td>Season 1</td>\n",
       "      <td>Episode 1</td>\n",
       "      <td>Winter is Coming</td>\n",
       "      <td>royce</td>\n",
       "      <td>You don't think he'll ask us how they died? Ge...</td>\n",
       "    </tr>\n",
       "  </tbody>\n",
       "</table>\n",
       "</div>"
      ],
      "text/plain": [
       "                        _id    Season    Episode     Episode Title  \\\n",
       "0  5fc4c1600a5fb174ea948545  Season 1  Episode 1  Winter is Coming   \n",
       "1  5fc4c1600a5fb174ea948546  Season 1  Episode 1  Winter is Coming   \n",
       "2  5fc4c1600a5fb174ea948547  Season 1  Episode 1  Winter is Coming   \n",
       "3  5fc4c1600a5fb174ea948548  Season 1  Episode 1  Winter is Coming   \n",
       "4  5fc4c1600a5fb174ea948549  Season 1  Episode 1  Winter is Coming   \n",
       "\n",
       "           Name                                           Sentence  \n",
       "0  waymar royce                             How close did you get?  \n",
       "1         gared                   We should head back to the wall.  \n",
       "2         royce                          Do the dead frighten you?  \n",
       "3         gared  Our orders were to track the wildlings. We tra...  \n",
       "4         royce  You don't think he'll ask us how they died? Ge...  "
      ]
     },
     "execution_count": 29,
     "metadata": {},
     "output_type": "execute_result"
    }
   ],
   "source": [
    "todo = pd.DataFrame(list(collection.find()))\n",
    "todo.head()"
   ]
  },
  {
   "cell_type": "code",
   "execution_count": 30,
   "metadata": {},
   "outputs": [],
   "source": [
    "#Checking correct functioning for sentimentAnalysis functions\n",
    "def sentimentAnalysis(sentence):\n",
    "    sia = SentimentIntensityAnalyzer()\n",
    "    polarity = sia.polarity_scores(sentence)\n",
    "    return polarity"
   ]
  },
  {
   "cell_type": "code",
   "execution_count": 31,
   "metadata": {},
   "outputs": [],
   "source": [
    "def sentimentAnalysis(sentence):\n",
    "    sia = SentimentIntensityAnalyzer()\n",
    "    polarity = sia.polarity_scores(sentence)\n",
    "    pol = polarity['compound']\n",
    "    return pol"
   ]
  },
  {
   "cell_type": "code",
   "execution_count": 32,
   "metadata": {},
   "outputs": [],
   "source": [
    "todo['sentiment_compound'] = todo['Sentence'].apply(sentimentAnalysis)"
   ]
  },
  {
   "cell_type": "code",
   "execution_count": 33,
   "metadata": {},
   "outputs": [
    {
     "data": {
      "text/html": [
       "<div>\n",
       "<style scoped>\n",
       "    .dataframe tbody tr th:only-of-type {\n",
       "        vertical-align: middle;\n",
       "    }\n",
       "\n",
       "    .dataframe tbody tr th {\n",
       "        vertical-align: top;\n",
       "    }\n",
       "\n",
       "    .dataframe thead th {\n",
       "        text-align: right;\n",
       "    }\n",
       "</style>\n",
       "<table border=\"1\" class=\"dataframe\">\n",
       "  <thead>\n",
       "    <tr style=\"text-align: right;\">\n",
       "      <th></th>\n",
       "      <th>_id</th>\n",
       "      <th>Season</th>\n",
       "      <th>Episode</th>\n",
       "      <th>Episode Title</th>\n",
       "      <th>Name</th>\n",
       "      <th>Sentence</th>\n",
       "      <th>sentiment_compound</th>\n",
       "    </tr>\n",
       "  </thead>\n",
       "  <tbody>\n",
       "    <tr>\n",
       "      <th>0</th>\n",
       "      <td>5fc4c1600a5fb174ea948545</td>\n",
       "      <td>Season 1</td>\n",
       "      <td>Episode 1</td>\n",
       "      <td>Winter is Coming</td>\n",
       "      <td>waymar royce</td>\n",
       "      <td>How close did you get?</td>\n",
       "      <td>0.0000</td>\n",
       "    </tr>\n",
       "    <tr>\n",
       "      <th>1</th>\n",
       "      <td>5fc4c1600a5fb174ea948546</td>\n",
       "      <td>Season 1</td>\n",
       "      <td>Episode 1</td>\n",
       "      <td>Winter is Coming</td>\n",
       "      <td>gared</td>\n",
       "      <td>We should head back to the wall.</td>\n",
       "      <td>0.0000</td>\n",
       "    </tr>\n",
       "    <tr>\n",
       "      <th>2</th>\n",
       "      <td>5fc4c1600a5fb174ea948547</td>\n",
       "      <td>Season 1</td>\n",
       "      <td>Episode 1</td>\n",
       "      <td>Winter is Coming</td>\n",
       "      <td>royce</td>\n",
       "      <td>Do the dead frighten you?</td>\n",
       "      <td>-0.7717</td>\n",
       "    </tr>\n",
       "    <tr>\n",
       "      <th>3</th>\n",
       "      <td>5fc4c1600a5fb174ea948548</td>\n",
       "      <td>Season 1</td>\n",
       "      <td>Episode 1</td>\n",
       "      <td>Winter is Coming</td>\n",
       "      <td>gared</td>\n",
       "      <td>Our orders were to track the wildlings. We tra...</td>\n",
       "      <td>0.4847</td>\n",
       "    </tr>\n",
       "    <tr>\n",
       "      <th>4</th>\n",
       "      <td>5fc4c1600a5fb174ea948549</td>\n",
       "      <td>Season 1</td>\n",
       "      <td>Episode 1</td>\n",
       "      <td>Winter is Coming</td>\n",
       "      <td>royce</td>\n",
       "      <td>You don't think he'll ask us how they died? Ge...</td>\n",
       "      <td>-0.5574</td>\n",
       "    </tr>\n",
       "  </tbody>\n",
       "</table>\n",
       "</div>"
      ],
      "text/plain": [
       "                        _id    Season    Episode     Episode Title  \\\n",
       "0  5fc4c1600a5fb174ea948545  Season 1  Episode 1  Winter is Coming   \n",
       "1  5fc4c1600a5fb174ea948546  Season 1  Episode 1  Winter is Coming   \n",
       "2  5fc4c1600a5fb174ea948547  Season 1  Episode 1  Winter is Coming   \n",
       "3  5fc4c1600a5fb174ea948548  Season 1  Episode 1  Winter is Coming   \n",
       "4  5fc4c1600a5fb174ea948549  Season 1  Episode 1  Winter is Coming   \n",
       "\n",
       "           Name                                           Sentence  \\\n",
       "0  waymar royce                             How close did you get?   \n",
       "1         gared                   We should head back to the wall.   \n",
       "2         royce                          Do the dead frighten you?   \n",
       "3         gared  Our orders were to track the wildlings. We tra...   \n",
       "4         royce  You don't think he'll ask us how they died? Ge...   \n",
       "\n",
       "   sentiment_compound  \n",
       "0              0.0000  \n",
       "1              0.0000  \n",
       "2             -0.7717  \n",
       "3              0.4847  \n",
       "4             -0.5574  "
      ]
     },
     "execution_count": 33,
     "metadata": {},
     "output_type": "execute_result"
    }
   ],
   "source": [
    "todo.head()"
   ]
  },
  {
   "cell_type": "code",
   "execution_count": 34,
   "metadata": {},
   "outputs": [
    {
     "data": {
      "text/plain": [
       "Name\n",
       "a voice           0.000000\n",
       "addam marbrand    0.210750\n",
       "aemon             0.047414\n",
       "aeron             0.217456\n",
       "aerson           -0.726900\n",
       "                    ...   \n",
       "young hodor      -0.032000\n",
       "young lyanna      0.000000\n",
       "young man        -0.245675\n",
       "young ned         0.087717\n",
       "young rodrik      0.000000\n",
       "Name: sentiment_compound, Length: 564, dtype: float64"
      ]
     },
     "execution_count": 34,
     "metadata": {},
     "output_type": "execute_result"
    }
   ],
   "source": [
    "todo.groupby(['Name'])['sentiment_compound'].mean()"
   ]
  },
  {
   "cell_type": "markdown",
   "metadata": {},
   "source": [
    "#### 3.2 TextBlob"
   ]
  },
  {
   "cell_type": "code",
   "execution_count": 35,
   "metadata": {},
   "outputs": [
    {
     "data": {
      "text/plain": [
       "TextBlob(\"have a good day\")"
      ]
     },
     "execution_count": 35,
     "metadata": {},
     "output_type": "execute_result"
    }
   ],
   "source": [
    "#Checking TextBlob functioning \n",
    "en_blob = TextBlob(u'que tengas buen buen day')\n",
    "en_blob = en_blob.translate(from_lang='es',to='en')\n",
    "en_blob"
   ]
  },
  {
   "cell_type": "code",
   "execution_count": 36,
   "metadata": {},
   "outputs": [],
   "source": [
    "def sentiment(text):\n",
    "    en_blob=TextBlob(u'{}'.format(text))\n",
    "    translated = en_blob.translate(to='fr')\n",
    "    return translated.sentiment"
   ]
  },
  {
   "cell_type": "code",
   "execution_count": 37,
   "metadata": {},
   "outputs": [],
   "source": [
    "text = 'You know nothing John Snow'"
   ]
  },
  {
   "cell_type": "code",
   "execution_count": 38,
   "metadata": {},
   "outputs": [
    {
     "data": {
      "text/plain": [
       "Sentiment(polarity=0.0, subjectivity=0.0)"
      ]
     },
     "execution_count": 38,
     "metadata": {},
     "output_type": "execute_result"
    }
   ],
   "source": [
    "sentiment(text)"
   ]
  },
  {
   "cell_type": "code",
   "execution_count": 42,
   "metadata": {},
   "outputs": [
    {
     "name": "stdout",
     "output_type": "stream",
     "text": [
      "<Response [500]>\n"
     ]
    }
   ],
   "source": [
    "#Endpoint to get mean polarity of all sentences of a character\n",
    "url_query = 'http://localhost:5000/polaridad/'\n",
    "name = 'ygritte'\n",
    "polarity = requests.get(url_query + name)\n",
    "print(polarity)"
   ]
  },
  {
   "cell_type": "code",
   "execution_count": 43,
   "metadata": {},
   "outputs": [
    {
     "name": "stdout",
     "output_type": "stream",
     "text": [
      "<Response [500]>\n"
     ]
    }
   ],
   "source": [
    "#Endpoint to get mean subjectivity of all sentences of a character\n",
    "url_query = 'http://localhost:5000/subjetividad/'\n",
    "name = 'ygritte'\n",
    "subjectivity = requests.get(url_query + name)\n",
    "print(subjectivity)"
   ]
  }
 ],
 "metadata": {
  "kernelspec": {
   "display_name": "Python 3",
   "language": "python",
   "name": "python3"
  },
  "language_info": {
   "codemirror_mode": {
    "name": "ipython",
    "version": 3
   },
   "file_extension": ".py",
   "mimetype": "text/x-python",
   "name": "python",
   "nbconvert_exporter": "python",
   "pygments_lexer": "ipython3",
   "version": "3.8.6"
  }
 },
 "nbformat": 4,
 "nbformat_minor": 4
}
